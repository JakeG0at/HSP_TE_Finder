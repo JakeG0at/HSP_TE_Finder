{
 "cells": [
  {
   "cell_type": "code",
   "execution_count": 4,
   "id": "5b2b88d2-601e-4746-878d-66a87079586b",
   "metadata": {
    "tags": []
   },
   "outputs": [],
   "source": [
    "####Packages####\n",
    "import pandas as pd\n",
    "import numpy as np\n",
    "import shutil\n",
    "import os\n",
    "import glob\n",
    "from Bio.Seq import Seq\n",
    "from Bio import SeqIO\n",
    "from Bio.SeqRecord import SeqRecord\n",
    "from pathlib import Path\n",
    "import re"
   ]
  },
  {
   "cell_type": "code",
   "execution_count": 5,
   "id": "8346d567-59b3-4c12-b0a4-b9c099e253bc",
   "metadata": {
    "tags": []
   },
   "outputs": [],
   "source": [
    "####Copy and Move Files to other folder####\n",
    "#defining source and destination\n",
    "# paths\n",
    "src = '/home/jake/Downloads/Genomes/hsp70/'\n",
    "dest = '/home/jake/Downloads/Genomes/tp/'"
   ]
  },
  {
   "cell_type": "code",
   "execution_count": 9,
   "id": "a78b9c98-ab38-4562-8dbc-441d44f55e0c",
   "metadata": {},
   "outputs": [],
   "source": [
    "#Trim the protein out of the sequence\n",
    "os.chdir('/home/jake/Downloads/Genomes/hsp70/')\n",
    "filess=os.listdir(src)\n",
    "for f in filess:\n",
    "    name=os.path.basename(f)\n",
    "    file_out=dest+'trim_'+name\n",
    "    for f in SeqIO.parse(name, \"fasta\"):\n",
    "        flank = (f)[:10000] #Trim the hsp Protein out of the sequence\n",
    "        SeqIO.write(flank, file_out, \"fasta\")\n",
    "        if len(f) < len(flank):\n",
    "            print(\"File copied and trimmed\")\n",
    "            print(\"Ready for RepeatMasker\")"
   ]
  },
  {
   "cell_type": "code",
   "execution_count": 18,
   "id": "2e9efb87-0489-4eb2-9468-156127451cdf",
   "metadata": {},
   "outputs": [],
   "source": [
    "#Regex to modify names of files\n",
    "namel=name.split('.')[0] #Removes.fa\n",
    "namet='trim_'+name #Adds trim_\n",
    "nameo=namet +'.'"
   ]
  },
  {
   "cell_type": "code",
   "execution_count": 11,
   "id": "df10e21c-7414-4af7-9de5-447648ecac9f",
   "metadata": {},
   "outputs": [
    {
     "name": "stdout",
     "output_type": "stream",
     "text": [
      "RepeatMasker version 4.1.2-p1\n",
      "Search Engine: NCBI/RMBLAST [ 2.11.0+ ]\n",
      "Using Custom Repeat Library: /home/jake/Downloads/Genomes/FishTEDB/Danio_rerio_lib.fa\n",
      "\n",
      "\n",
      "analyzing file /home/jake/Downloads/Genomes/tp/trim_Danio_rerio.fa\n",
      "\n",
      "Checking for E. coli insertion elements\n",
      "identifying Simple Repeats in batch 1 of 1\n",
      "identifying matches to Danio_rerio_lib.fa sequences in batch 1 of 1\n",
      "identifying Simple Repeats in batch 1 of 1\n",
      "processing output: \n",
      "cycle 1 \n",
      "cycle 2 \n",
      "cycle 3 \n",
      "cycle 4 \n",
      "cycle 5 \n",
      "cycle 6 \n",
      "cycle 7 \n",
      "cycle 8 \n",
      "cycle 9 \n",
      "cycle 10 \n",
      "Generating output... \n",
      "masking\n",
      "done\n"
     ]
    },
    {
     "data": {
      "text/plain": [
       "0"
      ]
     },
     "execution_count": 11,
     "metadata": {},
     "output_type": "execute_result"
    }
   ],
   "source": [
    "##Change directory into repeat masker and run the script\n",
    "lib_path='/home/jake/Downloads/Genomes/FishTEDB/'\n",
    "lib=lib_path+namel+\"_lib.fa\"\n",
    "proximal_promoter=dest+namet\n",
    "os.chdir('/home/jake/Downloads/Bio_tools/RepeatMasker-4.1.2-p1/RepeatMasker/')\n",
    "os.system(f\"./RepeatMasker -lib {lib} {proximal_promoter}\")\n"
   ]
  },
  {
   "cell_type": "code",
   "execution_count": 24,
   "id": "ec886b28-df91-46ae-b317-1c65fb5d0159",
   "metadata": {},
   "outputs": [
    {
     "name": "stdout",
     "output_type": "stream",
     "text": [
      "Moved:  trim_Danio_rerio.fa.cat\n",
      "Moved:  trim_Danio_rerio.fa.out\n",
      "Moved:  trim_Danio_rerio.fa.masked\n",
      "Moved:  trim_Danio_rerio.fa.tbl\n"
     ]
    },
    {
     "ename": "NameError",
     "evalue": "name 'path' is not defined",
     "output_type": "error",
     "traceback": [
      "\u001b[0;31m---------------------------------------------------------------------------\u001b[0m",
      "\u001b[0;31mNameError\u001b[0m                                 Traceback (most recent call last)",
      "Input \u001b[0;32mIn [24]\u001b[0m, in \u001b[0;36m<cell line: 18>\u001b[0;34m()\u001b[0m\n\u001b[1;32m     16\u001b[0m os\u001b[38;5;241m.\u001b[39mchdir(\u001b[38;5;124m'\u001b[39m\u001b[38;5;124m/home/jake/Documents/tastyworks_dailydata/\u001b[39m\u001b[38;5;124m'\u001b[39m)\n\u001b[1;32m     17\u001b[0m file \u001b[38;5;241m=\u001b[39m \u001b[38;5;124m'\u001b[39m\u001b[38;5;124m/\u001b[39m\u001b[38;5;124m'\u001b[39m\u001b[38;5;241m+\u001b[39m(os\u001b[38;5;241m.\u001b[39mlistdir()[\u001b[38;5;241m0\u001b[39m])\n\u001b[0;32m---> 18\u001b[0m src\u001b[38;5;241m=\u001b[39m\u001b[43mpath\u001b[49m \u001b[38;5;241m+\u001b[39m file\n\u001b[1;32m     19\u001b[0m dest\u001b[38;5;241m=\u001b[39m \u001b[38;5;124m'\u001b[39m\u001b[38;5;124m/home/jake/Documents/historical_data/\u001b[39m\u001b[38;5;124m'\u001b[39m \u001b[38;5;241m+\u001b[39m file\n\u001b[1;32m     20\u001b[0m shutil\u001b[38;5;241m.\u001b[39mmove(src, dest)\n",
      "\u001b[0;31mNameError\u001b[0m: name 'path' is not defined"
     ]
    }
   ],
   "source": [
    "source_folder = '/home/jake/Downloads/Genomes/tp/'\n",
    "destination_folder = '/home/jake/Downloads/repeat_outputs/'\n",
    "outputs=os.listdir(source_folder)\n",
    "\n",
    "# iterate files\n",
    "for f in outputs:\n",
    "    if f.startswith(nameo):\n",
    "        src=source_folder+f\n",
    "        dest=destination_folder+f\n",
    "        shutil.move(src, dest)\n",
    "        print(\"Moved: \", f)"
   ]
  },
  {
   "cell_type": "code",
   "execution_count": null,
   "id": "20c9f3a6-a7d2-4fe3-8495-f31b50837dd6",
   "metadata": {},
   "outputs": [],
   "source": []
  }
 ],
 "metadata": {
  "kernelspec": {
   "display_name": "Python 3 (ipykernel)",
   "language": "python",
   "name": "python3"
  },
  "language_info": {
   "codemirror_mode": {
    "name": "ipython",
    "version": 3
   },
   "file_extension": ".py",
   "mimetype": "text/x-python",
   "name": "python",
   "nbconvert_exporter": "python",
   "pygments_lexer": "ipython3",
   "version": "3.10.4"
  }
 },
 "nbformat": 4,
 "nbformat_minor": 5
}
