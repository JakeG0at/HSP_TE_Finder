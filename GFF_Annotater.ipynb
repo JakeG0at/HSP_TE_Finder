{
 "cells": [
  {
   "cell_type": "code",
   "execution_count": 2,
   "id": "1460895a-baf3-4fc9-938c-0979a0679ca1",
   "metadata": {
    "tags": []
   },
   "outputs": [],
   "source": [
    "####Packages####\n",
    "import pprint\n",
    "from BCBio.GFF import GFFExaminer\n",
    "import pandas as pd\n",
    "import numpy as np\n",
    "import shutil\n",
    "import os\n",
    "import glob\n",
    "from Bio.Seq import Seq\n",
    "from Bio import SeqIO\n",
    "from Bio.SeqRecord import SeqRecord\n",
    "from pathlib import Path\n",
    "import re\n",
    "import gff3_parser"
   ]
  },
  {
   "cell_type": "code",
   "execution_count": 3,
   "id": "eee9c0bf-5fb7-49fa-877a-ea12414f0e7b",
   "metadata": {
    "tags": []
   },
   "outputs": [
    {
     "name": "stdout",
     "output_type": "stream",
     "text": [
      "Anguilla_anguilla Genome imported\n",
      "There are 22 total hsp genes found in genome\n",
      "8 hsp genes are found on the negative strand\n",
      "14 hsp genes are found on the positive strand\n"
     ]
    }
   ],
   "source": [
    "#Pull in the Genome Annotation File for the correct species & Parse\n",
    "os.chdir('/home/jake/Downloads/Genomes/gff_files/')\n",
    "anotes=os.listdir('/home/jake/Downloads/Genomes/gff_files/')\n",
    "for f in anotes:\n",
    "    gff=os.path.basename(f)\n",
    "    name=gff.split('.')[0] #Removes.gff\n",
    "    _ = gff3_parser.parse_gff3(gff,verbose = False,  parse_attributes=True)\n",
    "    df=_[['Seqid', 'Type', 'Start', 'End', 'Strand','gene', 'gene_biotype']]\n",
    "    df.index.name='Index'\n",
    "    df=df.loc[(df['Type']=='gene')& (df['gene_biotype']=='protein_coding')]\n",
    "    df=df.astype({'Start':int,'End':int})\n",
    "    #Create Filtered Gene Dataframes\n",
    "    all_df=df.loc[(df['Type']=='gene') & (df['gene'].str.contains(r'hsp', re.I))] # ALL HSP genes\n",
    "    neg_df=df.loc[(df['Strand']=='-')& (df['Type']=='gene') & (df['gene'].str.contains(r'hsp', re.I))] #Negative HSP\n",
    "    pos_df=df.loc[(df['Strand']=='+')& (df['Type']=='gene') & (df['gene'].str.contains(r'hsp', re.I))] #Positive HSP\n",
    "    alen=len(all_df)\n",
    "    nlen=len(neg_df)\n",
    "    plen=len(pos_df)\n",
    "    print(f\"{name} Genome imported\")\n",
    "    print(f\"There are {alen} total hsp genes found in genome\")\n",
    "    print(f\"{nlen} hsp genes are found on the negative strand\")\n",
    "    print(f\"{plen} hsp genes are found on the positive strand\")\n",
    "    \n",
    "    "
   ]
  },
  {
   "cell_type": "code",
   "execution_count": 4,
   "id": "1c14f9f8",
   "metadata": {},
   "outputs": [
    {
     "name": "stdout",
     "output_type": "stream",
     "text": [
      "Negative Strands Created Sucessfully\n",
      "Positive Strands Created Sucessfully\n"
     ]
    }
   ],
   "source": [
    "#Annotated Gene Strands DF's\n",
    "nstrand=df.loc[(df['Strand']=='-')].sort_values(by=\"Start\", ascending=True)#Negative Strand Genes\n",
    "#master_nstrand=df.loc[(df['Strand']=='-')].sort_values(by=\"Start\", ascending=True)\n",
    "pstrand=df.loc[(df['Strand']=='+')].sort_values(by=\"Start\", ascending=True)#Negative Strand Genes\n",
    "#List of Columns to manipulate\n",
    "clist=['shift_1', 'shift_2', 'shift_3', 'shift_4', 'shift_5', 'shift_6', 'shift_7', 'shift_8', 'shift_9', 'shift_10']\n",
    "print(f\"Negative Strands Created Sucessfully\")\n",
    "print(f\"Positive Strands Created Sucessfully\")"
   ]
  },
  {
   "cell_type": "code",
   "execution_count": 5,
   "id": "7710ff12",
   "metadata": {},
   "outputs": [
    {
     "name": "stdout",
     "output_type": "stream",
     "text": [
      "Negative Strand Manipulated Sucessfully\n",
      "Positive Strand Manipulated Sucessfully\n",
      "Chromosome Column Created\n"
     ]
    }
   ],
   "source": [
    "#Function  manipulate the dataframes\n",
    "def seq_manipulate(df):\n",
    "    df['shift_1']=df['Start']- df['End'].shift(+1)\n",
    "    df['shift_2']=df['Start']- df['End'].shift(+2)\n",
    "    df['shift_3']=df['Start']- df['End'].shift(+3)\n",
    "    df['shift_4']=df['Start']- df['End'].shift(+4)\n",
    "    df['shift_5']=df['Start']- df['End'].shift(+5)\n",
    "    df['shift_6']=df['Start']- df['End'].shift(+6)\n",
    "    df['shift_7']=df['Start']- df['End'].shift(+7)\n",
    "    df['shift_8']=df['Start']- df['End'].shift(+8)\n",
    "    df['shift_9']=df['Start']- df['End'].shift(+9)\n",
    "    df['shift_10']=df['Start']- df['End'].shift(+10)\n",
    "    df[clist]= df[clist].clip(lower=0)#Remove all of the negative values and convert them to 0\n",
    "    df[clist]= df[clist].fillna(0) #Convert NA values to 0\n",
    "    df[clist]= df[clist].replace(0, np.nan) #Convert all the 0 values to NA\n",
    "    df['inter_genic']=df[clist].min(1)\n",
    "    df['Stop']= df['Start'] + df['inter_genic']\n",
    "    df['combined']=df.apply(lambda x:'%s_%s' % (x['Start'],x['End']),axis=1)\n",
    "    df.update('\"' + df['combined'].astype(str) + '\"')\n",
    "#Transfrom both strands of DFs\n",
    "\n",
    "seq_manipulate(nstrand)\n",
    "print(f\"Negative Strand Manipulated Sucessfully\")\n",
    "seq_manipulate(pstrand)\n",
    "print(f\"Positive Strand Manipulated Sucessfully\")\n",
    "#Create Two Filtered Data Sets\n",
    "n_=nstrand[['Seqid', 'Type', 'Strand','gene', 'gene_biotype', 'Start', 'combined']]\n",
    "p_=pstrand[['Seqid', 'Type', 'Strand','gene', 'gene_biotype', 'Start', 'combined']]\n",
    "n_hsp=n_.loc[(n_['gene'].str.contains(r'hsp', re.I))] # ALL HSP genes\n",
    "p_hsp=p_.loc[(p_['gene'].str.contains(r'hsp', re.I))] # ALL HSP genes\n",
    "hsps= pd.concat([n_hsp,p_hsp])\n",
    "hsps=hsps.sort_values(by=\"Start\", ascending=True)\n",
    "hsps['Chromsome']= hsps['Seqid'].apply(lambda x: x[-4:-2])\n",
    "print(f\"Chromosome Column Created\")"
   ]
  },
  {
   "cell_type": "code",
   "execution_count": 6,
   "id": "a710336a",
   "metadata": {},
   "outputs": [
    {
     "ename": "SyntaxError",
     "evalue": "invalid syntax (3698096884.py, line 11)",
     "output_type": "error",
     "traceback": [
      "\u001b[0;36m  Input \u001b[0;32mIn [6]\u001b[0;36m\u001b[0m\n\u001b[0;31m    chr1=\u001b[0m\n\u001b[0m         ^\u001b[0m\n\u001b[0;31mSyntaxError\u001b[0m\u001b[0;31m:\u001b[0m invalid syntax\n"
     ]
    }
   ],
   "source": [
    "#####Need to read in all chromosome fasta files, and save them as variables chr##\n",
    "genome=name.lower()\n",
    "os.chdir(f\"/home/jake/Downloads/Genomes/{genome}/\")\n",
    "filess=os.listdir(f\"/home/jake/Downloads/Genomes/{genome}/\")\n",
    "print(filess)\n",
    "for f in filess:\n",
    "    name_=os.path.basename(f)\n",
    "    #file_out=dest+'trim_'+name\n",
    "    for f in SeqIO.parse(name_, \"fasta\"):\n",
    "        if name_=='chr1':\n",
    "            chr1=\n",
    "        "
   ]
  },
  {
   "cell_type": "code",
   "execution_count": null,
   "metadata": {},
   "outputs": [
    {
     "ename": "NameError",
     "evalue": "name 'name' is not defined",
     "output_type": "error",
     "traceback": [
      "\u001b[0;31m---------------------------------------------------------------------------\u001b[0m",
      "\u001b[0;31mNameError\u001b[0m                                 Traceback (most recent call last)",
      "\u001b[1;32m/home/jake/Desktop/Genome/GFF_Annotater.ipynb Cell 6\u001b[0m in \u001b[0;36m<cell line: 3>\u001b[0;34m()\u001b[0m\n\u001b[1;32m      <a href='vscode-notebook-cell:/home/jake/Desktop/Genome/GFF_Annotater.ipynb#W5sZmlsZQ%3D%3D?line=0'>1</a>\u001b[0m \u001b[39m##Change directory into Emboss and run the script\u001b[39;00m\n\u001b[1;32m      <a href='vscode-notebook-cell:/home/jake/Desktop/Genome/GFF_Annotater.ipynb#W5sZmlsZQ%3D%3D?line=1'>2</a>\u001b[0m os\u001b[39m.\u001b[39mchdir(\u001b[39m'\u001b[39m\u001b[39m/home/jake/Downloads/Bio_tools/EMBOSS/EMBOSS-6.6.0/emboss/\u001b[39m\u001b[39m'\u001b[39m)\n\u001b[0;32m----> <a href='vscode-notebook-cell:/home/jake/Desktop/Genome/GFF_Annotater.ipynb#W5sZmlsZQ%3D%3D?line=2'>3</a>\u001b[0m genome\u001b[39m=\u001b[39mname\u001b[39m.\u001b[39mlower()\n\u001b[1;32m      <a href='vscode-notebook-cell:/home/jake/Desktop/Genome/GFF_Annotater.ipynb#W5sZmlsZQ%3D%3D?line=3'>4</a>\u001b[0m \u001b[39mfor\u001b[39;00m f \u001b[39min\u001b[39;00m \u001b[39mrange\u001b[39m(\u001b[39mlen\u001b[39m(hsps)):\n\u001b[1;32m      <a href='vscode-notebook-cell:/home/jake/Desktop/Genome/GFF_Annotater.ipynb#W5sZmlsZQ%3D%3D?line=4'>5</a>\u001b[0m     \u001b[39mfor\u001b[39;00m f \u001b[39min\u001b[39;00m hsps[\u001b[39m'\u001b[39m\u001b[39mgene\u001b[39m\u001b[39m'\u001b[39m]:\n",
      "\u001b[0;31mNameError\u001b[0m: name 'name' is not defined"
     ]
    }
   ],
   "source": [
    "##Change directory into Emboss and run the script\n",
    "os.chdir('/home/jake/Downloads/Bio_tools/EMBOSS/EMBOSS-6.6.0/emboss/')\n",
    "genome=name.lower()\n",
    "for f in range(len(hsps)):\n",
    "    for f in hsps['gene']:\n",
    "        gene=(f)\n",
    "        for f in hsps['Chromsome']:\n",
    "            chromosome=(f)\n",
    "            genome_path= (f\"/home/jake/Downloads/Genomes/{name}/chr{chromosome}.fna/\")\n",
    "            for f in hsps['combined']:\n",
    "                theta=(f)\n",
    "                os.system(f\"./extractseq {genome_path} result_{genome}_{gene}.seq -regions {theta}\")\n"
   ]
  }
 ],
 "metadata": {
  "kernelspec": {
   "display_name": "Python 3 (ipykernel)",
   "language": "python",
   "name": "python3"
  },
  "language_info": {
   "codemirror_mode": {
    "name": "ipython",
    "version": 3
   },
   "file_extension": ".py",
   "mimetype": "text/x-python",
   "name": "python",
   "nbconvert_exporter": "python",
   "pygments_lexer": "ipython3",
   "version": "3.10.5"
  },
  "vscode": {
   "interpreter": {
    "hash": "e7370f93d1d0cde622a1f8e1c04877d8463912d04d973331ad4851f04de6915a"
   }
  }
 },
 "nbformat": 4,
 "nbformat_minor": 5
}
